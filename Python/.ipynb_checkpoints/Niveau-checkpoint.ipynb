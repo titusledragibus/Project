{
 "cells": [
  {
   "cell_type": "code",
   "execution_count": 1,
   "metadata": {},
   "outputs": [],
   "source": [
    "import numpy\n",
    "import matplotlib.pyplot as plt\n"
   ]
  },
  {
   "cell_type": "code",
   "execution_count": 2,
   "metadata": {},
   "outputs": [],
   "source": [
    "#### CLASSE SEGMENT\n",
    "\n",
    "class Segment:\n",
    "    def __init__(self,array1,array2):\n",
    "        self.depart = array1\n",
    "        self.arrivee = array2\n",
    "        \n",
    "    def cross(self , segment):\n",
    "        ab = [self.arrivee[0] - self.depart[0] , self.arrivee[1] - self.depart[1]]\n",
    "        apbp = [segment.arrivee[0] - segment.depart[0] , segment.arrivee[1] - segment.depart[1]]\n",
    "        abp = [segment.arrivee[0] - self.depart[0], segment.arrivee[1] - self.depart[1]]\n",
    "        aap = [segment.depart[0] - self.depart[0], segment.depart[1] - self.depart[1] ]\n",
    "        apb = [self.arrivee[0] - segment.depart[0] , self.arrivee[1] - segment.depart[1]]\n",
    "        apa = [self.depart[0] - segment.depart[0] , self.depart[1] - segment.depart[1]]\n",
    "        \n",
    "        c1 = produitvectoriel(ab,apbp) != 0\n",
    "        c2 = (produitvectoriel(ab,abp) * produitvectoriel(ab,aap))<=0\n",
    "        c3 = (produitvectoriel(apbp,apb) * produitvectoriel(apbp,apa))<=0\n",
    "        return(c1 and c2 and c3)"
   ]
  },
  {
   "cell_type": "code",
   "execution_count": 3,
   "metadata": {},
   "outputs": [],
   "source": [
    "##### CLASSE TROU\n",
    "\n",
    "class Trou:\n",
    "    def __init__(self, array):\n",
    "        self.position = array.copy()\n",
    " "
   ]
  },
  {
   "cell_type": "code",
   "execution_count": 4,
   "metadata": {},
   "outputs": [],
   "source": [
    "##### CLASSE BALLE\n",
    "\n",
    "class Balle:\n",
    "    def __init__(self, array):\n",
    "        self.position = array.copy()"
   ]
  },
  {
   "cell_type": "code",
   "execution_count": 9,
   "metadata": {},
   "outputs": [],
   "source": [
    "def Niveau(niveau):\n",
    "    obstacles = []\n",
    "    # On ajoute les murs\n",
    "    obstacles.append(Segment([100,100],[100,700]))\n",
    "    obstacles.append(Segment([100,100],[700,100]))\n",
    "    obstacles.append(Segment([100,700],[700,700]))\n",
    "    obstacles.append(Segment([700,100],[700,700]))\n",
    "    \n",
    "    #on ajoute les obstacles en fonction du niveau\n",
    "    if niveau == 1:\n",
    "        array_balle = [650,150]\n",
    "        array_trou = [150,650]\n",
    "    \n",
    "    elif niveau == 2:\n",
    "        array_balle = [650,150]\n",
    "        array_trou = [150,650]\n",
    "        obstacles.append(Segment([350,100],[350,550]))\n",
    "        \n",
    "    elif niveau == 3 :\n",
    "        \n",
    "        array_balle = [650,150]\n",
    "        array_trou = [150,150]\n",
    "        obstacles.append(Segment([350,100],[350,550]))\n",
    "        \n",
    "    elif niveau == 4 :\n",
    "        array_balle = [650,150]\n",
    "        array_trou = [150,150]\n",
    "        obstacles.append(Segment([500,100],[500,550]))\n",
    "        obstacles.append(Segment([300,250], [300,700]))\n",
    "                         \n",
    "        \n",
    "    return [obstacles, array_balle, array_trou]\n",
    "        "
   ]
  },
  {
   "cell_type": "code",
   "execution_count": null,
   "metadata": {},
   "outputs": [],
   "source": []
  }
 ],
 "metadata": {
  "kernelspec": {
   "display_name": "Python 3",
   "language": "python",
   "name": "python3"
  },
  "language_info": {
   "codemirror_mode": {
    "name": "ipython",
    "version": 3
   },
   "file_extension": ".py",
   "mimetype": "text/x-python",
   "name": "python",
   "nbconvert_exporter": "python",
   "pygments_lexer": "ipython3",
   "version": "3.7.7"
  }
 },
 "nbformat": 4,
 "nbformat_minor": 4
}
