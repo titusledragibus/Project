{
 "cells": [
  {
   "cell_type": "code",
   "execution_count": 1,
   "metadata": {},
   "outputs": [
    {
     "name": "stdout",
     "output_type": "stream",
     "text": [
      "pygame 1.9.6\n",
      "Hello from the pygame community. https://www.pygame.org/contribute.html\n"
     ]
    }
   ],
   "source": [
    "import matplotlib.pyplot as plt\n",
    "import pygame\n",
    "import numpy as np\n",
    "import random\n",
    "import copy\n",
    "import cma\n",
    "import pickle\n",
    "import functools\n",
    "import operator"
   ]
  },
  {
   "cell_type": "code",
   "execution_count": 2,
   "metadata": {},
   "outputs": [
    {
     "name": "stdout",
     "output_type": "stream",
     "text": [
      "[0.0, 0.20943951023931953, 0.41887902047863906, 0.6283185307179586, 0.8377580409572781, 1.0471975511965976, 1.2566370614359172, 1.4660765716752369, 1.6755160819145563, 1.8849555921538759, 2.0943951023931953, 2.3038346126325147, 2.5132741228718345, 2.7227136331111543, 2.9321531433504737, 3.1415926535897927, 3.3510321638291125, 3.5604716740684323, 3.7699111843077517, 3.979350694547071, 4.1887902047863905, 4.39822971502571, 4.607669225265029, 4.817108735504349, 5.026548245743669, 5.235987755982989, 5.445427266222309, 5.654866776461628, 5.8643062867009474, 6.073745796940267]\n"
     ]
    }
   ],
   "source": [
    "##### CONSTANTES\n",
    "k = 30\n",
    "directions = [6,8,10,12,30,40,60]\n",
    "k_dir =len(directions)\n",
    "N_in = k + 2 + 2 \n",
    "N1 =10\n",
    "N2 = 10\n",
    "N_out = k + k_dir\n",
    "f = 0.3\n",
    "rb = 3\n",
    "rt = 20\n",
    "m = 1\n",
    "g = 9.81\n",
    "best_distance = 300\n",
    "nb_dep = 200\n",
    "\n",
    "angles = [i * 2*np.pi/k for i in range(k)]\n",
    "print(angles)\n",
    "\n",
    "ratio_distance = 0.5\n",
    "ratio_angle = 100\n",
    "\n",
    "\n",
    "num_elites = 3\n",
    "nbre_mouvements = 50\n",
    "nb_gen = 20\n",
    "nb_pop = 100\n",
    "mutation_rate = 2/(nbre_mouvements*2)\n",
    "v_max = 10"
   ]
  },
  {
   "cell_type": "code",
   "execution_count": 3,
   "metadata": {
    "collapsed": true
   },
   "outputs": [],
   "source": [
    "###### FONCTIONS UTILES\n",
    "\n",
    "def produitvectoriel(vect1,vect2):\n",
    "    return (vect1[0]*vect2[1] - vect1[1]*vect2[0])\n",
    "\n",
    "def produitscalaire(vect1,vect2):\n",
    "    return(vect1[0]*vect2[0] + vect1[1]*vect2[1])\n",
    "\n",
    "def draw_circle(matrice,i,j,r, colour):\n",
    "    for x in range(len(matrice)):\n",
    "        for y in range(len(matrice[x])):\n",
    "            if abs((x-i)**2 + (y-j)**2) <=r**2:\n",
    "                matrice[x,y] = colour\n",
    "\n",
    "def get_line(start, end):\n",
    "    x1, y1 = start\n",
    "    x2, y2 = end\n",
    "    dx = x2 - x1\n",
    "    dy = y2 - y1\n",
    "    is_steep = abs(dy) > abs(dx)\n",
    "    if is_steep:\n",
    "        x1, y1 = y1, x1\n",
    "        x2, y2 = y2, x2\n",
    "    swapped = False\n",
    "    if x1 > x2:\n",
    "        x1, x2 = x2, x1\n",
    "        y1, y2 = y2, y1\n",
    "        swapped = True\n",
    "    dx = x2 - x1\n",
    "    dy = y2 - y1\n",
    "    error = int(dx / 0.5)\n",
    "    ystep = 1 if y1 < y2 else -1\n",
    "    y = y1\n",
    "    points = []\n",
    "    for x in range(x1, x2 + 1):\n",
    "        coord = (y, x) if is_steep else (x, y)\n",
    "        points.append(coord)\n",
    "        error -= abs(dy)\n",
    "        if error < 0:\n",
    "            y += ystep\n",
    "            error += dx\n",
    "    if swapped:\n",
    "        points.reverse()\n",
    "    return points\n",
    "\n",
    "\n",
    "def draw_segment(matrice, start,end):\n",
    "    points = get_line(start, end)\n",
    "    shape = np.shape(matrice)\n",
    "    for i in points:\n",
    "        if i[0]<shape[0] and i[1] < shape[1]:\n",
    "            matrice[i[0],i[1]] = 0.7\n",
    "    \n"
   ]
  },
  {
   "cell_type": "code",
   "execution_count": 4,
   "metadata": {
    "collapsed": true
   },
   "outputs": [],
   "source": [
    "##### CLASSE JOUEUR\n",
    "class Joueur:  \n",
    "    def __init__(self, array_trou,array_balle,obstacles, nbre_mouvements):\n",
    "        self.is_best = False\n",
    "        self.fitness = 0\n",
    "        self.liste_mouvements = []\n",
    "        self.liste_emplacements = [array_balle]\n",
    "        self.nn = Simple_nn(N_in,N1,N_out)\n",
    "            \n",
    "    def evaluate_fitness(self):\n",
    "        a = best_distance\n",
    "        distance = np.sqrt((self.partie.trou.position[0] - self.partie.balle.position[0])**2 + (self.partie.trou.position[1] - self.partie.balle.position[1])**2 ) \n",
    "        if self.partie.reached_goal:\n",
    "            #print(\"victoire\")\n",
    "            self.fitness = 100\n",
    "        elif (not self.partie.is_dead): \n",
    "            #print(distance)\n",
    "            self.fitness = 10000000/(distance)**4\n",
    "        else:\n",
    "            self.fitness = -5000/self.partie.nb_coups\n",
    "        return float(self.fitness)\n",
    "            \n",
    "        \n",
    "    def faire_partie(self,array_balle):\n",
    "        self.partie = Partie(array_balle,array_trou,obstacles)\n",
    "        for i in range(nb_dep):\n",
    "            if self.partie.reached_goal:\n",
    "                for i in range(nb_dep - i):\n",
    "                    self.liste_emplacements.append(self.liste_emplacements[-1])\n",
    "                self.evaluate_fitness()\n",
    "                return\n",
    "            \n",
    "            if self.partie.is_dead:\n",
    "                for i in range(nb_dep - i):\n",
    "                    self.liste_emplacements.append(self.liste_emplacements[-1])\n",
    "                self.evaluate_fitness()\n",
    "                return\n",
    "            \n",
    "            else:\n",
    "                a = self.partie.distances()\n",
    "                b = np.array([self.partie.balle.position[0],self.partie.balle.position[1],self.partie.trou.position[0],self.partie.trou.position[1]]) \n",
    "                c = np.concatenate((a, b)).flatten()\n",
    "                y = self.nn.compute(c)\n",
    "                self.liste_mouvements.append(y)\n",
    "                a = self.partie.deplacement(y)\n",
    "                self.liste_emplacements.append(a)\n",
    "        return\n",
    "        \n",
    "        \n",
    "        \n",
    "    \n",
    "                "
   ]
  },
  {
   "cell_type": "code",
   "execution_count": 5,
   "metadata": {
    "collapsed": true
   },
   "outputs": [],
   "source": [
    "###### CLASSE POPULATION\n",
    "\n",
    "class Population:\n",
    "    def __init__(self, solutions, arraytrou, obstacles, arrayballe = None):\n",
    "        #if arrayballe == None:\n",
    "         #   arrayballe = [np.ceil(random.random()*599+100),np.ceil(random.random()*599+100)]\n",
    "        #self.array_balle = arrayballe\n",
    "        self.liste_joueur = []\n",
    "        self.solutions = solutions\n",
    "        self.nb_not_dead = 0\n",
    "        for i in range(len(solutions)):\n",
    "            if arrayballe == None:\n",
    "                array_balle = [np.ceil(random.random()*599+100),np.ceil(random.random()*599+100)]\n",
    "                joueur = Joueur(arraytrou,array_balle,obstacles, nbre_mouvements)\n",
    "                joueur.nn.transform(solutions[i])\n",
    "                joueur.faire_partie(array_balle)\n",
    "                joueur.evaluate_fitness()\n",
    "                self.liste_joueur.append(joueur)\n",
    "            else:\n",
    "                joueur = Joueur(arraytrou,arrayballe,obstacles, nbre_mouvements)\n",
    "                joueur.nn.transform(solutions[i])\n",
    "                joueur.faire_partie(arrayballe)\n",
    "                joueur.evaluate_fitness()\n",
    "                self.liste_joueur.append(joueur)\n",
    "                \n",
    "            if (not joueur.partie.is_dead):\n",
    "                self.nb_not_dead += 1\n",
    "                \n",
    "    def total_transform(self, arraytrou, obstacles, arrayballe = [np.ceil(random.random()*599+100),np.ceil(random.random()*599+100)]):\n",
    "        self.liste_joueur = []\n",
    "        self.nb_not_dead = 0\n",
    "        for i in range(len(self.solutions)):\n",
    "            joueur = Joueur(array_trou,arrayballe,obstacles, nbre_mouvements)\n",
    "            joueur.nn.transform(self.solutions[i])\n",
    "            joueur.faire_partie(arrayballe)\n",
    "            joueur.evaluate_fitness()\n",
    "            self.liste_joueur.append(joueur)\n",
    "            if (not joueur.partie.is_dead):\n",
    "                self.nb_not_dead += 1\n",
    "        \n",
    "        \n",
    "    def to_array(self):\n",
    "        imax = 0 \n",
    "        for i in range(len(self.liste_joueur)):\n",
    "            if self.fitness_function(i) > self.fitness_function(imax):\n",
    "                imax = i\n",
    "        return self.liste_joueur[imax].nn.to_array()\n",
    "    \n",
    "    def to_array_golbal(self):\n",
    "        l = []\n",
    "        for i in range(len(self.liste_joueur)):\n",
    "            l.append(self.liste_joueur[i].nn.to_array())\n",
    "        return l\n",
    "        \n",
    "        \n",
    "    def fitness_function(self,i):\n",
    "        joueur = self.liste_joueur[i]\n",
    "        return joueur.fitness\n",
    "        \n",
    "    def print_partie(self,arraytrou, obstacles, nbre_mouvements):\n",
    "        pygame.init()\n",
    "        win = pygame.display.set_mode((800,800))\n",
    "        pygame.display.set_caption(\"Le mini-golf de l'enfer\")\n",
    "        x_trou = int(arraytrou[0])\n",
    "        y_trou = int(arraytrou[1])\n",
    "        win.fill((0,128,0))\n",
    "        for i in obstacles:\n",
    "            pygame.draw.line(win, (0,0,0), i.depart, i.arrivee,10)\n",
    "\n",
    "        run = True\n",
    "        couleur = self.generer_couleur()\n",
    "        for i in range(nbre_mouvements): \n",
    "            pygame.time.delay(1)\n",
    "            for event in pygame.event.get():\n",
    "                if event.type == pygame.QUIT:\n",
    "                    run = False\n",
    "            pygame.draw.circle(win, (0,0,0), (x_trou,y_trou), rt)\n",
    "            for obs in obstacles:\n",
    "                pygame.draw.line(win, (0,0,0), obs.depart, obs.arrivee,10)\n",
    "            ind_coul = 0\n",
    "            for j in self.liste_joueur:\n",
    "                pygame.draw.circle(win, couleur[ind_coul], (int(j.liste_emplacements[i][0]),int(j.liste_emplacements[i][1])), rb)\n",
    "                pygame.display.update()\n",
    "                ind_coul += 1\n",
    "            win.fill((0,128,0))\n",
    "        print(\"fin\")\n",
    "        pygame.display.flip()\n",
    "        pygame.quit()\n",
    "        \n",
    "    def generer_couleur(self):\n",
    "        couleur = []\n",
    "        for i in range(nb_pop):\n",
    "            couleur.append((random.randint(0,250),random.randint(0,250),random.randint(0,250)))\n",
    "        return couleur"
   ]
  },
  {
   "cell_type": "code",
   "execution_count": 6,
   "metadata": {
    "collapsed": true
   },
   "outputs": [],
   "source": [
    "###### CLASSE NEURAL NETWORK\n",
    "class Simple_nn:\n",
    "    def __init__(self, N_in, N1,N_out):\n",
    "        self.fitness = 0\n",
    "        self.l1 = np.random.random((N_in,N1))\n",
    "        self.l2 = np.random.random((N1,N2))\n",
    "        self.out = np.random.random((N2,N_out))\n",
    "    \n",
    "    def compute(self,inputs):\n",
    "        x = np.dot(self.l1,np.reshape(inputs,(N_in,1)))\n",
    "        x = np.dot(self.l2, x)\n",
    "        x = np.dot(self.out,x)\n",
    "        x = x/(N_in*N1)\n",
    "        x = x.flatten()\n",
    "        x = np.abs(x)\n",
    "        v = x[0,0]\n",
    "        v = directions[ np.argmax(x[0,:k_dir]) ]\n",
    "        angle = angles[ np.argmax(x[0,k_dir:]) ]\n",
    "        return ([v, angle])\n",
    "    \n",
    "    def to_array(self):\n",
    "            array = []\n",
    "            for i in self.l1:\n",
    "                array.append(np.asarray(i))\n",
    "            for i in self.l2:\n",
    "                array.append(np.asarray(i))\n",
    "            for i in self.out:\n",
    "                array.append(np.asarray(i))\n",
    "                a = functools.reduce(operator.iconcat, array, [])\n",
    "            return functools.reduce(operator.iconcat, a, [])\n",
    "        \n",
    "    def transform(self, genes):\n",
    "        layers = [self.l1.flatten(),self.l2.flatten(),self.out.flatten()]\n",
    "        L = 0\n",
    "        j = 0\n",
    "        for i in range(len(genes)):\n",
    "            if j >= len(layers[L]):\n",
    "                L += 1\n",
    "                j = 0\n",
    "            layers[L][j] = genes[i]\n",
    "            j += 1\n",
    "        self.l1 = np.reshape(np.asmatrix(layers[0]),(N1,N_in))\n",
    "        self.l2 = np.reshape(np.asmatrix(layers[1]),(N2,N1))\n",
    "        self.out = np.reshape(np.asmatrix(layers[2]),(N_out,N2))  "
   ]
  },
  {
   "cell_type": "code",
   "execution_count": 7,
   "metadata": {
    "collapsed": true
   },
   "outputs": [],
   "source": [
    "#### CLASSE SEGMENT\n",
    "\n",
    "class Segment:\n",
    "    def __init__(self,array1,array2):\n",
    "        self.depart = array1\n",
    "        self.arrivee = array2\n",
    "        \n",
    "    def cross(self , segment):\n",
    "        ab = [self.arrivee[0] - self.depart[0] , self.arrivee[1] - self.depart[1]]\n",
    "        apbp = [segment.arrivee[0] - segment.depart[0] , segment.arrivee[1] - segment.depart[1]]\n",
    "        abp = [segment.arrivee[0] - self.depart[0], segment.arrivee[1] - self.depart[1]]\n",
    "        aap = [segment.depart[0] - self.depart[0], segment.depart[1] - self.depart[1] ]\n",
    "        apb = [self.arrivee[0] - segment.depart[0] , self.arrivee[1] - segment.depart[1]]\n",
    "        apa = [self.depart[0] - segment.depart[0] , self.depart[1] - segment.depart[1]]\n",
    "        \n",
    "        c1 = produitvectoriel(ab,apbp) != 0\n",
    "        c2 = (produitvectoriel(ab,abp) * produitvectoriel(ab,aap))<=0\n",
    "        c3 = (produitvectoriel(apbp,apb) * produitvectoriel(apbp,apa))<=0\n",
    "        return(c1 and c2 and c3)"
   ]
  },
  {
   "cell_type": "code",
   "execution_count": 8,
   "metadata": {
    "collapsed": true
   },
   "outputs": [],
   "source": [
    "##### CLASSE TROU\n",
    "\n",
    "class Trou:\n",
    "    def __init__(self, array):\n",
    "        self.position = array.copy()\n",
    " "
   ]
  },
  {
   "cell_type": "code",
   "execution_count": 9,
   "metadata": {
    "collapsed": true
   },
   "outputs": [],
   "source": [
    "##### CLASSE BALLE\n",
    "\n",
    "class Balle:\n",
    "    def __init__(self, array):\n",
    "        self.position = array.copy()"
   ]
  },
  {
   "cell_type": "code",
   "execution_count": 10,
   "metadata": {
    "collapsed": true
   },
   "outputs": [],
   "source": [
    "##### CLASSE PARTIE\n",
    "\n",
    "class Partie:\n",
    "    def __init__(self, arrayballe,arraytrou, obstacles):\n",
    "        self.balle = Balle(arrayballe)\n",
    "        self.trou = Trou(arraytrou)\n",
    "        self.obstacles = obstacles\n",
    "        self.is_dead = False\n",
    "        self.nb_coups = 1\n",
    "        self.reached_goal = False \n",
    "        \n",
    "    def is_won(self):\n",
    "        distance = np.sqrt((self.trou.position[0] - self.balle.position[0])**2 + (self.trou.position[1] - self.balle.position[1])**2 )\n",
    "        if distance < rt :\n",
    "            self.reached_goal = True\n",
    "    \n",
    "    def is_possible_move(self,segment_dep):\n",
    "        liste_obstacles_cross = []\n",
    "        for i in self.obstacles: # Pour tous les obstacles\n",
    "            if i.cross(segment_dep): # Si un segment_dep et i se croisent alors le move n'est pas possible\n",
    "                    liste_obstacles_cross.append(i)\n",
    "        if len(liste_obstacles_cross) > 0 :\n",
    "            liste_distances = []\n",
    "            liste_inter = []\n",
    "            for i in liste_obstacles_cross:\n",
    "                if (segment_dep.depart[0] - segment_dep.arrivee[0] == 0):\n",
    "                    a_i = (i.depart[1] - i.arrivee[1]) / (i.depart[0] - i.arrivee[0])\n",
    "                    b_i = i.depart[1] - a_i *i.depart[0]\n",
    "                    x_inter = segment_dep.depart[0]\n",
    "                    y_inter = a_i * x_inter + b_i\n",
    "                    liste_inter.append([x_inter , y_inter])\n",
    "                    \n",
    "                    \n",
    "                elif (i.depart[0] - i.arrivee[0] == 0):\n",
    "                    a_segment_dep = (segment_dep.depart[1] - segment_dep.arrivee[1]) / (segment_dep.depart[0] - segment_dep.arrivee[0])\n",
    "                    b_segment_dep = segment_dep.depart[1] - a_segment_dep * segment_dep.depart[0]\n",
    "                    x_inter = i.depart[0]\n",
    "                    y_inter = a_segment_dep * x_inter + b_segment_dep\n",
    "                    liste_inter.append([x_inter , y_inter])\n",
    "                \n",
    "                else :\n",
    "                    a_segment_dep = (segment_dep.depart[1] - segment_dep.arrivee[1]) / (segment_dep.depart[0] - segment_dep.arrivee[0])\n",
    "                    b_segment_dep = segment_dep.depart[1] - a_segment_dep * segment_dep.depart[0]\n",
    "                    a_i = (i.depart[1] - i.arrivee[1]) / (i.depart[0] - i.arrivee[0])\n",
    "                    b_i = i.depart[1] - a_i *i.depart[0]\n",
    "                    x_inter = (b_i - b_segment_dep) / (a_segment_dep - a_i)\n",
    "                    y_inter = a_i * x_inter + b_i\n",
    "                    liste_inter.append([x_inter , y_inter])\n",
    "                \n",
    "                liste_distances.append(np.sqrt( (x_inter - self.balle.position[0])**2 + (y_inter - self.balle.position[1])**2))\n",
    "            self.balle.position[0] = liste_inter[liste_distances.index(min(liste_distances))][0]\n",
    "            self.balle.position[1] = liste_inter[liste_distances.index(min(liste_distances))][1]\n",
    "                \n",
    "            return False\n",
    "        return True\n",
    "    \n",
    "    def remplir_matrice(self):\n",
    "        self.matrice = np.zeros((800,800))\n",
    "        draw_circle(self.matrice,int(self.trou.position[0]),int(self.trou.position[1]),rt,0.2)\n",
    "        draw_circle(self.matrice,int(self.balle.position[0]),int(self.balle.position[1]),rt,0.2)\n",
    "        for i in obstacles:\n",
    "            draw_segment(self.matrice, i.depart,i.arrivee)\n",
    "        \n",
    "    def deplacement(self,vitesse_initiale): # La vitesse sera de la forme [ ||v|| , theta)]\n",
    "        distance = vitesse_initiale[0]\n",
    "        #print(\"distance : \"+str(distance))\n",
    "        segment_dep = Segment([self.balle.position[0],self.balle.position[1]],[self.balle.position[0] + np.cos(vitesse_initiale[1]) * distance,self.balle.position[1] + np.sin(vitesse_initiale[1]) * distance] )\n",
    "        self.is_won()\n",
    "        \n",
    "        if self.reached_goal:\n",
    "            return (self.balle.position[0],self.balle.position[1])\n",
    "        if self.is_possible_move(segment_dep):\n",
    "            self.nb_coups +=1\n",
    "            self.balle.position[0] += np.cos(vitesse_initiale[1]) * distance\n",
    "            self.balle.position[1] += np.sin(vitesse_initiale[1]) * distance\n",
    "        else :\n",
    "            self.is_dead = True\n",
    "        return (self.balle.position[0],self.balle.position[1])\n",
    "    \n",
    "    def closest_distance(self,angle):\n",
    "        x = self.balle.position[0]\n",
    "        y = self.balle.position[1]\n",
    "        xf = x + 8000*np.cos(angle)\n",
    "        yf = y + 8000*np.sin(angle)\n",
    "        segment_dep = Segment([x,y],[xf,yf])\n",
    "        liste_obstacles_cross = []\n",
    "        liste_distances = []\n",
    "        liste_inter = []\n",
    "        \n",
    "        for i in self.obstacles: # Pour tous les obstacles\n",
    "            if i.cross(segment_dep): # Si un segment_dep et i se croisent alors le move n'est pas possible\n",
    "                    liste_obstacles_cross.append(i)\n",
    "        for i in liste_obstacles_cross:\n",
    "            if (segment_dep.depart[0] - segment_dep.arrivee[0] == 0):\n",
    "                a_i = (i.depart[1] - i.arrivee[1]) / (i.depart[0] - i.arrivee[0])\n",
    "                b_i = i.depart[1] - a_i *i.depart[0]\n",
    "                x_inter = segment_dep.depart[0]\n",
    "                y_inter = a_i * x_inter + b_i\n",
    "                liste_inter.append([x_inter , y_inter])\n",
    "\n",
    "\n",
    "            elif (i.depart[0] - i.arrivee[0] == 0):\n",
    "                a_segment_dep = (segment_dep.depart[1] - segment_dep.arrivee[1]) / (segment_dep.depart[0] - segment_dep.arrivee[0])\n",
    "                b_segment_dep = segment_dep.depart[1] - a_segment_dep * segment_dep.depart[0]\n",
    "                x_inter = i.depart[0]\n",
    "                y_inter = a_segment_dep * x_inter + b_segment_dep\n",
    "                liste_inter.append([x_inter , y_inter])\n",
    "\n",
    "            else :\n",
    "                a_segment_dep = (segment_dep.depart[1] - segment_dep.arrivee[1]) / (segment_dep.depart[0] - segment_dep.arrivee[0])\n",
    "                b_segment_dep = segment_dep.depart[1] - a_segment_dep * segment_dep.depart[0]\n",
    "                a_i = (i.depart[1] - i.arrivee[1]) / (i.depart[0] - i.arrivee[0])\n",
    "                b_i = i.depart[1] - a_i *i.depart[0]\n",
    "                x_inter = (b_i - b_segment_dep) / (a_segment_dep - a_i)\n",
    "                y_inter = a_i * x_inter + b_i\n",
    "                liste_inter.append([x_inter , y_inter])\n",
    "\n",
    "            liste_distances.append(np.sqrt( (x_inter - self.balle.position[0])**2 + (y_inter - self.balle.position[1])**2))\n",
    "        inter_x = liste_inter[liste_distances.index(min(liste_distances))][0]\n",
    "        inter_y = liste_inter[liste_distances.index(min(liste_distances))][1]\n",
    "\n",
    "        distance = np.sqrt((x-inter_x)**2 + (y-inter_y)**2)\n",
    "        return distance\n",
    "    \n",
    "    \n",
    "    \n",
    "    def distances(self):\n",
    "        distances = []\n",
    "        for i in range(k):\n",
    "            distances.append(self.closest_distance(angles[i]))\n",
    "        return distances"
   ]
  },
  {
   "cell_type": "code",
   "execution_count": 19,
   "metadata": {},
   "outputs": [
    {
     "data": {
      "text/plain": [
       "<matplotlib.figure.Figure at 0x10f9bc6a0>"
      ]
     },
     "metadata": {},
     "output_type": "display_data"
    },
    {
     "data": {
      "image/png": "[encoded data removed]",
      "text/plain": [
       "<matplotlib.figure.Figure at 0x118b25710>"
      ]
     },
     "metadata": {},
     "output_type": "display_data"
    }
   ],
   "source": [
    "#DEFINITION DE LA PARTIE\n",
    "obstacles = []\n",
    "# On ajoute les murs\n",
    "obstacles.append(Segment([100,100],[100,700]))\n",
    "obstacles.append(Segment([100,100],[700,100]))\n",
    "obstacles.append(Segment([100,700],[700,700]))\n",
    "obstacles.append(Segment([700,100],[700,700]))\n",
    "# On ajoute les obstacles\n",
    "\n",
    "obstacles.append(Segment([100,400],[400,400]))\n",
    "#obstacles.append(Segment([100,500],[400,500]))\n",
    "#obstacles.append(Segment([400,350],[400,550]))\n",
    "\n",
    "\n",
    "array_balle = [600,200]\n",
    "array_trou = [150,150]\n",
    "partie = Partie(array_balle,array_trou, obstacles)\n",
    "\n",
    "partie.remplir_matrice()\n",
    "plt.figure(figsize = (800,800))\n",
    "im1 = plt.matshow(partie.matrice, interpolation = 'bilinear')\n",
    "plt.colorbar(im1)\n",
    "plt.plot([])\n",
    "plt.show()\n",
    "#a = partie.distances()\n",
    "#print(a)\n",
    "def fitness_function(x):\n",
    "    joueur = Joueur(array_trou,array_balle,obstacles, nbre_mouvements)\n",
    "    joueur.nn.transform(x)\n",
    "    joueur.faire_partie()\n",
    "    a = joueur.evaluate_fitness()\n",
    "    return a\n",
    "    \n",
    "    "
   ]
  },
  {
   "cell_type": "code",
   "execution_count": 21,
   "metadata": {},
   "outputs": [
    {
     "name": "stdout",
     "output_type": "stream",
     "text": [
      "(12_w,24)-aCMA-ES (mu_w=7.0,w_1=24%) in dimension 810 (seed=775013, Sat May 16 16:00:51 2020)\n",
      "generation : 1\n",
      "24\n",
      "terminé !\n",
      "nb de victoires : 1\n",
      "nb de morts : 20\n",
      "Iterat #Fevals   function value  axis ratio  sigma  min&max std  t[m:s]\n",
      "    1     24 -1.000000000000000e+02 1.0e+00 1.98e-01  2e-01  2e-01 0:02.2\n",
      "generation : 2\n",
      "24\n"
     ]
    },
    {
     "ename": "KeyboardInterrupt",
     "evalue": "",
     "output_type": "error",
     "traceback": [
      "\u001b[0;31m---------------------------------------------------------------------------\u001b[0m",
      "\u001b[0;31mKeyboardInterrupt\u001b[0m                         Traceback (most recent call last)",
      "\u001b[0;32m<ipython-input-21-7d06ca6bb7b2>\u001b[0m in \u001b[0;36m<module>\u001b[0;34m()\u001b[0m\n\u001b[1;32m     10\u001b[0m     \u001b[0msolutions\u001b[0m \u001b[0;34m=\u001b[0m \u001b[0mes\u001b[0m\u001b[0;34m.\u001b[0m\u001b[0mask\u001b[0m\u001b[0;34m(\u001b[0m\u001b[0;34m)\u001b[0m\u001b[0;34m\u001b[0m\u001b[0m\n\u001b[1;32m     11\u001b[0m     \u001b[0mprint\u001b[0m\u001b[0;34m(\u001b[0m\u001b[0mlen\u001b[0m\u001b[0;34m(\u001b[0m\u001b[0msolutions\u001b[0m\u001b[0;34m)\u001b[0m\u001b[0;34m)\u001b[0m\u001b[0;34m\u001b[0m\u001b[0m\n\u001b[0;32m---> 12\u001b[0;31m     \u001b[0mpopulation\u001b[0m \u001b[0;34m=\u001b[0m \u001b[0mPopulation\u001b[0m\u001b[0;34m(\u001b[0m\u001b[0msolutions\u001b[0m\u001b[0;34m,\u001b[0m \u001b[0marray_trou\u001b[0m \u001b[0;34m,\u001b[0m\u001b[0mobstacles\u001b[0m\u001b[0;34m,\u001b[0m \u001b[0marray_balle\u001b[0m\u001b[0;34m)\u001b[0m\u001b[0;34m\u001b[0m\u001b[0m\n\u001b[0m\u001b[1;32m     13\u001b[0m     \u001b[0mes\u001b[0m\u001b[0;34m.\u001b[0m\u001b[0mtell\u001b[0m\u001b[0;34m(\u001b[0m\u001b[0msolutions\u001b[0m\u001b[0;34m,\u001b[0m \u001b[0;34m[\u001b[0m\u001b[0;34m-\u001b[0m\u001b[0mpopulation\u001b[0m\u001b[0;34m.\u001b[0m\u001b[0mfitness_function\u001b[0m\u001b[0;34m(\u001b[0m\u001b[0mi\u001b[0m\u001b[0;34m)\u001b[0m \u001b[0;32mfor\u001b[0m \u001b[0mi\u001b[0m \u001b[0;32min\u001b[0m \u001b[0mrange\u001b[0m\u001b[0;34m(\u001b[0m\u001b[0mlen\u001b[0m\u001b[0;34m(\u001b[0m\u001b[0msolutions\u001b[0m\u001b[0;34m)\u001b[0m\u001b[0;34m)\u001b[0m\u001b[0;34m]\u001b[0m\u001b[0;34m)\u001b[0m\u001b[0;34m\u001b[0m\u001b[0m\n\u001b[1;32m     14\u001b[0m     \u001b[0mnb_victoires\u001b[0m \u001b[0;34m=\u001b[0m \u001b[0msum\u001b[0m\u001b[0;34m(\u001b[0m\u001b[0;34m[\u001b[0m\u001b[0mi\u001b[0m\u001b[0;34m.\u001b[0m\u001b[0mpartie\u001b[0m\u001b[0;34m.\u001b[0m\u001b[0mreached_goal\u001b[0m \u001b[0;32mfor\u001b[0m \u001b[0mi\u001b[0m \u001b[0;32min\u001b[0m \u001b[0mpopulation\u001b[0m\u001b[0;34m.\u001b[0m\u001b[0mliste_joueur\u001b[0m\u001b[0;34m]\u001b[0m\u001b[0;34m)\u001b[0m\u001b[0;34m\u001b[0m\u001b[0m\n",
      "\u001b[0;32m<ipython-input-5-f8407dba24e8>\u001b[0m in \u001b[0;36m__init__\u001b[0;34m(self, solutions, arraytrou, obstacles, arrayballe)\u001b[0m\n\u001b[1;32m     20\u001b[0m                 \u001b[0mjoueur\u001b[0m \u001b[0;34m=\u001b[0m \u001b[0mJoueur\u001b[0m\u001b[0;34m(\u001b[0m\u001b[0marraytrou\u001b[0m\u001b[0;34m,\u001b[0m\u001b[0marrayballe\u001b[0m\u001b[0;34m,\u001b[0m\u001b[0mobstacles\u001b[0m\u001b[0;34m,\u001b[0m \u001b[0mnbre_mouvements\u001b[0m\u001b[0;34m)\u001b[0m\u001b[0;34m\u001b[0m\u001b[0m\n\u001b[1;32m     21\u001b[0m                 \u001b[0mjoueur\u001b[0m\u001b[0;34m.\u001b[0m\u001b[0mnn\u001b[0m\u001b[0;34m.\u001b[0m\u001b[0mtransform\u001b[0m\u001b[0;34m(\u001b[0m\u001b[0msolutions\u001b[0m\u001b[0;34m[\u001b[0m\u001b[0mi\u001b[0m\u001b[0;34m]\u001b[0m\u001b[0;34m)\u001b[0m\u001b[0;34m\u001b[0m\u001b[0m\n\u001b[0;32m---> 22\u001b[0;31m                 \u001b[0mjoueur\u001b[0m\u001b[0;34m.\u001b[0m\u001b[0mfaire_partie\u001b[0m\u001b[0;34m(\u001b[0m\u001b[0marrayballe\u001b[0m\u001b[0;34m)\u001b[0m\u001b[0;34m\u001b[0m\u001b[0m\n\u001b[0m\u001b[1;32m     23\u001b[0m                 \u001b[0mjoueur\u001b[0m\u001b[0;34m.\u001b[0m\u001b[0mevaluate_fitness\u001b[0m\u001b[0;34m(\u001b[0m\u001b[0;34m)\u001b[0m\u001b[0;34m\u001b[0m\u001b[0m\n\u001b[1;32m     24\u001b[0m                 \u001b[0mself\u001b[0m\u001b[0;34m.\u001b[0m\u001b[0mliste_joueur\u001b[0m\u001b[0;34m.\u001b[0m\u001b[0mappend\u001b[0m\u001b[0;34m(\u001b[0m\u001b[0mjoueur\u001b[0m\u001b[0;34m)\u001b[0m\u001b[0;34m\u001b[0m\u001b[0m\n",
      "\u001b[0;32m<ipython-input-4-e621ac5c2856>\u001b[0m in \u001b[0;36mfaire_partie\u001b[0;34m(self, array_balle)\u001b[0m\n\u001b[1;32m     38\u001b[0m \u001b[0;34m\u001b[0m\u001b[0m\n\u001b[1;32m     39\u001b[0m             \u001b[0;32melse\u001b[0m\u001b[0;34m:\u001b[0m\u001b[0;34m\u001b[0m\u001b[0m\n\u001b[0;32m---> 40\u001b[0;31m                 \u001b[0ma\u001b[0m \u001b[0;34m=\u001b[0m \u001b[0mself\u001b[0m\u001b[0;34m.\u001b[0m\u001b[0mpartie\u001b[0m\u001b[0;34m.\u001b[0m\u001b[0mdistances\u001b[0m\u001b[0;34m(\u001b[0m\u001b[0;34m)\u001b[0m\u001b[0;34m\u001b[0m\u001b[0m\n\u001b[0m\u001b[1;32m     41\u001b[0m                 \u001b[0mb\u001b[0m \u001b[0;34m=\u001b[0m \u001b[0mnp\u001b[0m\u001b[0;34m.\u001b[0m\u001b[0marray\u001b[0m\u001b[0;34m(\u001b[0m\u001b[0;34m[\u001b[0m\u001b[0mself\u001b[0m\u001b[0;34m.\u001b[0m\u001b[0mpartie\u001b[0m\u001b[0;34m.\u001b[0m\u001b[0mballe\u001b[0m\u001b[0;34m.\u001b[0m\u001b[0mposition\u001b[0m\u001b[0;34m[\u001b[0m\u001b[0;36m0\u001b[0m\u001b[0;34m]\u001b[0m\u001b[0;34m,\u001b[0m\u001b[0mself\u001b[0m\u001b[0;34m.\u001b[0m\u001b[0mpartie\u001b[0m\u001b[0;34m.\u001b[0m\u001b[0mballe\u001b[0m\u001b[0;34m.\u001b[0m\u001b[0mposition\u001b[0m\u001b[0;34m[\u001b[0m\u001b[0;36m1\u001b[0m\u001b[0;34m]\u001b[0m\u001b[0;34m,\u001b[0m\u001b[0mself\u001b[0m\u001b[0;34m.\u001b[0m\u001b[0mpartie\u001b[0m\u001b[0;34m.\u001b[0m\u001b[0mtrou\u001b[0m\u001b[0;34m.\u001b[0m\u001b[0mposition\u001b[0m\u001b[0;34m[\u001b[0m\u001b[0;36m0\u001b[0m\u001b[0;34m]\u001b[0m\u001b[0;34m,\u001b[0m\u001b[0mself\u001b[0m\u001b[0;34m.\u001b[0m\u001b[0mpartie\u001b[0m\u001b[0;34m.\u001b[0m\u001b[0mtrou\u001b[0m\u001b[0;34m.\u001b[0m\u001b[0mposition\u001b[0m\u001b[0;34m[\u001b[0m\u001b[0;36m1\u001b[0m\u001b[0;34m]\u001b[0m\u001b[0;34m]\u001b[0m\u001b[0;34m)\u001b[0m\u001b[0;34m\u001b[0m\u001b[0m\n\u001b[1;32m     42\u001b[0m                 \u001b[0mc\u001b[0m \u001b[0;34m=\u001b[0m \u001b[0mnp\u001b[0m\u001b[0;34m.\u001b[0m\u001b[0mconcatenate\u001b[0m\u001b[0;34m(\u001b[0m\u001b[0;34m(\u001b[0m\u001b[0ma\u001b[0m\u001b[0;34m,\u001b[0m \u001b[0mb\u001b[0m\u001b[0;34m)\u001b[0m\u001b[0;34m)\u001b[0m\u001b[0;34m.\u001b[0m\u001b[0mflatten\u001b[0m\u001b[0;34m(\u001b[0m\u001b[0;34m)\u001b[0m\u001b[0;34m\u001b[0m\u001b[0m\n",
      "\u001b[0;32m<ipython-input-10-9455ec7a062a>\u001b[0m in \u001b[0;36mdistances\u001b[0;34m(self)\u001b[0m\n\u001b[1;32m    127\u001b[0m         \u001b[0mdistances\u001b[0m \u001b[0;34m=\u001b[0m \u001b[0;34m[\u001b[0m\u001b[0;34m]\u001b[0m\u001b[0;34m\u001b[0m\u001b[0m\n\u001b[1;32m    128\u001b[0m         \u001b[0;32mfor\u001b[0m \u001b[0mi\u001b[0m \u001b[0;32min\u001b[0m \u001b[0mrange\u001b[0m\u001b[0;34m(\u001b[0m\u001b[0mk\u001b[0m\u001b[0;34m)\u001b[0m\u001b[0;34m:\u001b[0m\u001b[0;34m\u001b[0m\u001b[0m\n\u001b[0;32m--> 129\u001b[0;31m             \u001b[0mdistances\u001b[0m\u001b[0;34m.\u001b[0m\u001b[0mappend\u001b[0m\u001b[0;34m(\u001b[0m\u001b[0mself\u001b[0m\u001b[0;34m.\u001b[0m\u001b[0mclosest_distance\u001b[0m\u001b[0;34m(\u001b[0m\u001b[0mangles\u001b[0m\u001b[0;34m[\u001b[0m\u001b[0mi\u001b[0m\u001b[0;34m]\u001b[0m\u001b[0;34m)\u001b[0m\u001b[0;34m)\u001b[0m\u001b[0;34m\u001b[0m\u001b[0m\n\u001b[0m\u001b[1;32m    130\u001b[0m         \u001b[0;32mreturn\u001b[0m \u001b[0mdistances\u001b[0m\u001b[0;34m\u001b[0m\u001b[0m\n",
      "\u001b[0;32m<ipython-input-10-9455ec7a062a>\u001b[0m in \u001b[0;36mclosest_distance\u001b[0;34m(self, angle)\u001b[0m\n\u001b[1;32m     88\u001b[0m \u001b[0;34m\u001b[0m\u001b[0m\n\u001b[1;32m     89\u001b[0m         \u001b[0;32mfor\u001b[0m \u001b[0mi\u001b[0m \u001b[0;32min\u001b[0m \u001b[0mself\u001b[0m\u001b[0;34m.\u001b[0m\u001b[0mobstacles\u001b[0m\u001b[0;34m:\u001b[0m \u001b[0;31m# Pour tous les obstacles\u001b[0m\u001b[0;34m\u001b[0m\u001b[0m\n\u001b[0;32m---> 90\u001b[0;31m             \u001b[0;32mif\u001b[0m \u001b[0mi\u001b[0m\u001b[0;34m.\u001b[0m\u001b[0mcross\u001b[0m\u001b[0;34m(\u001b[0m\u001b[0msegment_dep\u001b[0m\u001b[0;34m)\u001b[0m\u001b[0;34m:\u001b[0m \u001b[0;31m# Si un segment_dep et i se croisent alors le move n'est pas possible\u001b[0m\u001b[0;34m\u001b[0m\u001b[0m\n\u001b[0m\u001b[1;32m     91\u001b[0m                     \u001b[0mliste_obstacles_cross\u001b[0m\u001b[0;34m.\u001b[0m\u001b[0mappend\u001b[0m\u001b[0;34m(\u001b[0m\u001b[0mi\u001b[0m\u001b[0;34m)\u001b[0m\u001b[0;34m\u001b[0m\u001b[0m\n\u001b[1;32m     92\u001b[0m         \u001b[0;32mfor\u001b[0m \u001b[0mi\u001b[0m \u001b[0;32min\u001b[0m \u001b[0mliste_obstacles_cross\u001b[0m\u001b[0;34m:\u001b[0m\u001b[0;34m\u001b[0m\u001b[0m\n",
      "\u001b[0;32m<ipython-input-7-c7377c4f35f1>\u001b[0m in \u001b[0;36mcross\u001b[0;34m(self, segment)\u001b[0m\n\u001b[1;32m     12\u001b[0m         \u001b[0maap\u001b[0m \u001b[0;34m=\u001b[0m \u001b[0;34m[\u001b[0m\u001b[0msegment\u001b[0m\u001b[0;34m.\u001b[0m\u001b[0mdepart\u001b[0m\u001b[0;34m[\u001b[0m\u001b[0;36m0\u001b[0m\u001b[0;34m]\u001b[0m \u001b[0;34m-\u001b[0m \u001b[0mself\u001b[0m\u001b[0;34m.\u001b[0m\u001b[0mdepart\u001b[0m\u001b[0;34m[\u001b[0m\u001b[0;36m0\u001b[0m\u001b[0;34m]\u001b[0m\u001b[0;34m,\u001b[0m \u001b[0msegment\u001b[0m\u001b[0;34m.\u001b[0m\u001b[0mdepart\u001b[0m\u001b[0;34m[\u001b[0m\u001b[0;36m1\u001b[0m\u001b[0;34m]\u001b[0m \u001b[0;34m-\u001b[0m \u001b[0mself\u001b[0m\u001b[0;34m.\u001b[0m\u001b[0mdepart\u001b[0m\u001b[0;34m[\u001b[0m\u001b[0;36m1\u001b[0m\u001b[0;34m]\u001b[0m \u001b[0;34m]\u001b[0m\u001b[0;34m\u001b[0m\u001b[0m\n\u001b[1;32m     13\u001b[0m         \u001b[0mapb\u001b[0m \u001b[0;34m=\u001b[0m \u001b[0;34m[\u001b[0m\u001b[0mself\u001b[0m\u001b[0;34m.\u001b[0m\u001b[0marrivee\u001b[0m\u001b[0;34m[\u001b[0m\u001b[0;36m0\u001b[0m\u001b[0;34m]\u001b[0m \u001b[0;34m-\u001b[0m \u001b[0msegment\u001b[0m\u001b[0;34m.\u001b[0m\u001b[0mdepart\u001b[0m\u001b[0;34m[\u001b[0m\u001b[0;36m0\u001b[0m\u001b[0;34m]\u001b[0m \u001b[0;34m,\u001b[0m \u001b[0mself\u001b[0m\u001b[0;34m.\u001b[0m\u001b[0marrivee\u001b[0m\u001b[0;34m[\u001b[0m\u001b[0;36m1\u001b[0m\u001b[0;34m]\u001b[0m \u001b[0;34m-\u001b[0m \u001b[0msegment\u001b[0m\u001b[0;34m.\u001b[0m\u001b[0mdepart\u001b[0m\u001b[0;34m[\u001b[0m\u001b[0;36m1\u001b[0m\u001b[0;34m]\u001b[0m\u001b[0;34m]\u001b[0m\u001b[0;34m\u001b[0m\u001b[0m\n\u001b[0;32m---> 14\u001b[0;31m         \u001b[0mapa\u001b[0m \u001b[0;34m=\u001b[0m \u001b[0;34m[\u001b[0m\u001b[0mself\u001b[0m\u001b[0;34m.\u001b[0m\u001b[0mdepart\u001b[0m\u001b[0;34m[\u001b[0m\u001b[0;36m0\u001b[0m\u001b[0;34m]\u001b[0m \u001b[0;34m-\u001b[0m \u001b[0msegment\u001b[0m\u001b[0;34m.\u001b[0m\u001b[0mdepart\u001b[0m\u001b[0;34m[\u001b[0m\u001b[0;36m0\u001b[0m\u001b[0;34m]\u001b[0m \u001b[0;34m,\u001b[0m \u001b[0mself\u001b[0m\u001b[0;34m.\u001b[0m\u001b[0mdepart\u001b[0m\u001b[0;34m[\u001b[0m\u001b[0;36m1\u001b[0m\u001b[0;34m]\u001b[0m \u001b[0;34m-\u001b[0m \u001b[0msegment\u001b[0m\u001b[0;34m.\u001b[0m\u001b[0mdepart\u001b[0m\u001b[0;34m[\u001b[0m\u001b[0;36m1\u001b[0m\u001b[0;34m]\u001b[0m\u001b[0;34m]\u001b[0m\u001b[0;34m\u001b[0m\u001b[0m\n\u001b[0m\u001b[1;32m     15\u001b[0m \u001b[0;34m\u001b[0m\u001b[0m\n\u001b[1;32m     16\u001b[0m         \u001b[0mc1\u001b[0m \u001b[0;34m=\u001b[0m \u001b[0mproduitvectoriel\u001b[0m\u001b[0;34m(\u001b[0m\u001b[0mab\u001b[0m\u001b[0;34m,\u001b[0m\u001b[0mapbp\u001b[0m\u001b[0;34m)\u001b[0m \u001b[0;34m!=\u001b[0m \u001b[0;36m0\u001b[0m\u001b[0;34m\u001b[0m\u001b[0m\n",
      "\u001b[0;31mKeyboardInterrupt\u001b[0m: "
     ]
    }
   ],
   "source": [
    "#population = pickle.load( open( \"./data/gen_fitness180.pkl\", \"rb\" ) )\n",
    "x0 = np.random.randn(N_in*N1+N2*N1+ N2*N_out)\n",
    "#x0 = population.to_array()\n",
    "#es = pickle.load(open( \"./data/last_cma_fit_easy.pkl\", \"rb\" ) )\n",
    "es = cma.CMAEvolutionStrategy(x0,0.2)\n",
    "\n",
    "i = 1\n",
    "while True:\n",
    "    print(\"generation : \"+str(i))\n",
    "    solutions = es.ask()\n",
    "    print(len(solutions))\n",
    "    population = Population(solutions, array_trou ,obstacles, array_balle)\n",
    "    es.tell(solutions, [-population.fitness_function(i) for i in range(len(solutions))])\n",
    "    nb_victoires = sum([i.partie.reached_goal for i in population.liste_joueur])\n",
    "    #print(\"nb de victoires : \"+str(nb_victoires))\n",
    "    if nb_victoires > 0:\n",
    "        print(\"terminé !\")\n",
    "        print(\"nb de victoires : \"+str(nb_victoires))\n",
    "        with open(\"./data/gen_fitness_easy\"+str(i)+\".pkl\", 'wb') as pickle_file:\n",
    "            pickle.dump(population, pickle_file)\n",
    "        #population.total_transform(array_trou, obstacles, array_balle)\n",
    "        #print(\" En commencant du début, meilleur fit = \"+str(-max([i.fitness for i in population.liste_joueur])))\n",
    "        with open(\"./data/last_cma_fit_easy.pkl\", 'wb') as pickle_file:\n",
    "            pickle.dump(es, pickle_file)\n",
    "    print(\"nb de morts : \"+str(sum([i.partie.is_dead for i in population.liste_joueur])))\n",
    "    if i%10 == 0: \n",
    "        with open(\"./data/gen_fitness_easy\"+str(i)+\".pkl\", 'wb') as pickle_file:\n",
    "            pickle.dump(population, pickle_file)\n",
    "        #population.total_transform(array_trou, obstacles, array_balle)\n",
    "        #print(\" En commencant du début, meilleur fit = \"+str(-max([i.fitness for i in population.liste_joueur])))\n",
    "        with open(\"./data/last_cma_fit_easy.pkl\", 'wb') as pickle_file:\n",
    "            pickle.dump(es, pickle_file)    \n",
    "    es.logger.add()\n",
    "    es.disp()\n",
    "    i += 1\n",
    "        "
   ]
  },
  {
   "cell_type": "code",
   "execution_count": null,
   "metadata": {
    "collapsed": true
   },
   "outputs": [],
   "source": [
    "print(N_in*N1+N2*N1+ N2*N_out)"
   ]
  },
  {
   "cell_type": "code",
   "execution_count": null,
   "metadata": {
    "collapsed": true
   },
   "outputs": [],
   "source": []
  },
  {
   "cell_type": "code",
   "execution_count": null,
   "metadata": {
    "collapsed": true
   },
   "outputs": [],
   "source": []
  },
  {
   "cell_type": "code",
   "execution_count": null,
   "metadata": {
    "collapsed": true
   },
   "outputs": [],
   "source": []
  },
  {
   "cell_type": "code",
   "execution_count": null,
   "metadata": {
    "collapsed": true
   },
   "outputs": [],
   "source": []
  },
  {
   "cell_type": "code",
   "execution_count": null,
   "metadata": {
    "collapsed": true
   },
   "outputs": [],
   "source": []
  },
  {
   "cell_type": "code",
   "execution_count": null,
   "metadata": {
    "collapsed": true
   },
   "outputs": [],
   "source": []
  },
  {
   "cell_type": "code",
   "execution_count": null,
   "metadata": {
    "collapsed": true
   },
   "outputs": [],
   "source": []
  },
  {
   "cell_type": "code",
   "execution_count": null,
   "metadata": {
    "collapsed": true
   },
   "outputs": [],
   "source": []
  },
  {
   "cell_type": "code",
   "execution_count": null,
   "metadata": {
    "collapsed": true
   },
   "outputs": [],
   "source": []
  },
  {
   "cell_type": "code",
   "execution_count": null,
   "metadata": {
    "collapsed": true
   },
   "outputs": [],
   "source": []
  },
  {
   "cell_type": "code",
   "execution_count": null,
   "metadata": {
    "collapsed": true
   },
   "outputs": [],
   "source": []
  },
  {
   "cell_type": "code",
   "execution_count": null,
   "metadata": {
    "collapsed": true
   },
   "outputs": [],
   "source": []
  },
  {
   "cell_type": "code",
   "execution_count": null,
   "metadata": {
    "collapsed": true
   },
   "outputs": [],
   "source": []
  }
 ],
 "metadata": {
  "kernelspec": {
   "display_name": "Python 3",
   "language": "python",
   "name": "python3"
  },
  "language_info": {
   "codemirror_mode": {
    "name": "ipython",
    "version": 3
   },
   "file_extension": ".py",
   "mimetype": "text/x-python",
   "name": "python",
   "nbconvert_exporter": "python",
   "pygments_lexer": "ipython3",
   "version": "3.6.2"
  }
 },
 "nbformat": 4,
 "nbformat_minor": 2
}
